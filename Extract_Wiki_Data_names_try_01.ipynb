{
  "nbformat": 4,
  "nbformat_minor": 0,
  "metadata": {
    "colab": {
      "provenance": [],
      "authorship_tag": "ABX9TyNA/KDyimzVa9K/sxi9ltg/",
      "include_colab_link": true
    },
    "kernelspec": {
      "name": "python3",
      "display_name": "Python 3"
    },
    "language_info": {
      "name": "python"
    }
  },
  "cells": [
    {
      "cell_type": "markdown",
      "metadata": {
        "id": "view-in-github",
        "colab_type": "text"
      },
      "source": [
        "<a href=\"https://colab.research.google.com/github/beltima/extract-wikidata-names/blob/get-names-dictionary/Extract_Wiki_Data_names_try_01.ipynb\" target=\"_parent\"><img src=\"https://colab.research.google.com/assets/colab-badge.svg\" alt=\"Open In Colab\"/></a>"
      ]
    },
    {
      "cell_type": "code",
      "execution_count": 96,
      "metadata": {
        "colab": {
          "base_uri": "https://localhost:8080/"
        },
        "id": "jHTiUSlsqEQC",
        "outputId": "b6937911-4d69-4727-a796-177860a090ee"
      },
      "outputs": [
        {
          "output_type": "stream",
          "name": "stdout",
          "text": [
            "Looking in indexes: https://pypi.org/simple, https://us-python.pkg.dev/colab-wheels/public/simple/\n",
            "Requirement already satisfied: qwikidata in /usr/local/lib/python3.8/dist-packages (0.4.2)\n",
            "Requirement already satisfied: requests in /usr/local/lib/python3.8/dist-packages (from qwikidata) (2.25.1)\n",
            "Requirement already satisfied: mypy-extensions in /usr/local/lib/python3.8/dist-packages (from qwikidata) (0.4.3)\n",
            "Requirement already satisfied: chardet<5,>=3.0.2 in /usr/local/lib/python3.8/dist-packages (from requests->qwikidata) (4.0.0)\n",
            "Requirement already satisfied: urllib3<1.27,>=1.21.1 in /usr/local/lib/python3.8/dist-packages (from requests->qwikidata) (1.24.3)\n",
            "Requirement already satisfied: idna<3,>=2.5 in /usr/local/lib/python3.8/dist-packages (from requests->qwikidata) (2.10)\n",
            "Requirement already satisfied: certifi>=2017.4.17 in /usr/local/lib/python3.8/dist-packages (from requests->qwikidata) (2022.12.7)\n"
          ]
        }
      ],
      "source": [
        "!pip install qwikidata\n",
        "import qwikidata"
      ]
    },
    {
      "cell_type": "code",
      "source": [
        "from qwikidata.sparql import get_subclasses_of_item\n",
        "from qwikidata.sparql import return_sparql_query_results\n",
        "\n",
        "#look for ID of a name, first get the ID of name = Gregory\n",
        "name = 'Gregory'\n",
        "query = f'''\n",
        "SELECT DISTINCT ?item ?itemLabel WHERE {{\n",
        "  ?item rdfs:label \"{name}\"@en;\n",
        "        wdt:P31 wd:Q12308941.\n",
        "  SERVICE wikibase:label {{ bd:serviceParam wikibase:language \"en\". }}\n",
        "}}\n",
        "\n",
        "'''\n",
        "query_result = return_sparql_query_results(query)"
      ],
      "metadata": {
        "id": "oVACJ3q4qfSX"
      },
      "execution_count": 97,
      "outputs": []
    },
    {
      "cell_type": "code",
      "source": [
        "query_result"
      ],
      "metadata": {
        "colab": {
          "base_uri": "https://localhost:8080/"
        },
        "id": "DJ-GiTqjqoaq",
        "outputId": "2cd30892-c206-408f-a25d-56367b94c0c9"
      },
      "execution_count": 98,
      "outputs": [
        {
          "output_type": "execute_result",
          "data": {
            "text/plain": [
              "{'head': {'vars': ['item', 'itemLabel']},\n",
              " 'results': {'bindings': [{'item': {'type': 'uri',\n",
              "     'value': 'http://www.wikidata.org/entity/Q922983'},\n",
              "    'itemLabel': {'xml:lang': 'en', 'type': 'literal', 'value': 'Gregory'}}]}}"
            ]
          },
          "metadata": {},
          "execution_count": 98
        }
      ]
    },
    {
      "cell_type": "code",
      "source": [
        "#extract the ID for a name\n",
        "item_id = query_result['results']['bindings'][0]['item']['value'].split('/')[-1]\n",
        "item_id"
      ],
      "metadata": {
        "colab": {
          "base_uri": "https://localhost:8080/",
          "height": 36
        },
        "id": "Wp_S2UxRq4V4",
        "outputId": "1bdd42ac-b966-4212-c36b-1e58e9f76258"
      },
      "execution_count": 99,
      "outputs": [
        {
          "output_type": "execute_result",
          "data": {
            "text/plain": [
              "'Q922983'"
            ],
            "application/vnd.google.colaboratory.intrinsic+json": {
              "type": "string"
            }
          },
          "metadata": {},
          "execution_count": 99
        }
      ]
    },
    {
      "cell_type": "code",
      "source": [
        "#find similar names from the ID just found for the target name\n",
        "query1 = f\"\"\"\n",
        "SELECT DISTINCT ?item ?itemLabel WHERE {{\n",
        "  SERVICE wikibase:label {{ bd:serviceParam wikibase:language \"en\". }}\n",
        "  {{\n",
        "    SELECT DISTINCT ?item WHERE {{\n",
        "      ?item p:P460 ?statement0.\n",
        "      ?statement0 (ps:P460/(wdt:P279*)) wd:{item_id}.\n",
        "    }}\n",
        "\n",
        "  }}\n",
        "}}\n",
        "\"\"\"\n",
        "query_result1 = return_sparql_query_results(query1)"
      ],
      "metadata": {
        "id": "ZmezRKTYrcAO"
      },
      "execution_count": 100,
      "outputs": []
    },
    {
      "cell_type": "code",
      "source": [
        "similar_names = [x[\"itemLabel\"][\"value\"] for x in query_result1[\"results\"][\"bindings\"]]"
      ],
      "metadata": {
        "id": "KRnzNzm-q4r-"
      },
      "execution_count": 101,
      "outputs": []
    },
    {
      "cell_type": "code",
      "source": [
        "male_name_list = {name: similar_names}\n",
        "print(male_name_list)"
      ],
      "metadata": {
        "colab": {
          "base_uri": "https://localhost:8080/"
        },
        "id": "-nblaLThuTVB",
        "outputId": "85804666-9789-4264-a24a-a6b3bf0a5c8f"
      },
      "execution_count": 103,
      "outputs": [
        {
          "output_type": "stream",
          "name": "stdout",
          "text": [
            "{'Gregory': ['Grzegorz', 'Gergely', 'Greggory', 'Grigori', 'Gregorius', 'Greger', 'Gregor', 'Grégory', 'Grégoire', 'Greig', 'Gregorio', 'Krikor', 'Gregers', 'Ryhor', 'Řehoř', 'Grigoris', 'Grigalius', 'Reijo', 'Grigorios', 'Hryhorii']}\n"
          ]
        }
      ]
    },
    {
      "cell_type": "code",
      "source": [
        "##UPDATE it worked!!! \n",
        "###CODE WORKED PERFECTLY ON QUERY SERVICE BUT NOT ON PYTHON CODE\n",
        "#find (first name + last name) where first name = gregory\n",
        "query2 =\"\"\"\n",
        "SELECT DISTINCT ?item ?itemLabel WHERE {\n",
        "  SERVICE wikibase:label { bd:serviceParam wikibase:language \"en\". }\n",
        "  {\n",
        "    SELECT DISTINCT ?item ?itemLabel WHERE {\n",
        "      ?item p:P735 ?statement0.\n",
        "      ?statement0 (ps:P735/(wdt:P279*)) wd:Q922983.\n",
        "    }\n",
        "    LIMIT 100\n",
        "  }\n",
        "  FILTER REGEX(?itemLabel, \"^Gregory [A-Za-z]+$\")\n",
        "}\n",
        "\"\"\"\n",
        "\n",
        "query_result2 = return_sparql_query_results(query2)"
      ],
      "metadata": {
        "id": "_lBgze0FuTXH"
      },
      "execution_count": 104,
      "outputs": []
    },
    {
      "cell_type": "code",
      "source": [
        "same_first_name_pair = [ x[\"itemLabel\"][\"value\"] for x in query_result2['results']['bindings']]"
      ],
      "metadata": {
        "id": "v4vaqUr1N19L"
      },
      "execution_count": 108,
      "outputs": []
    },
    {
      "cell_type": "code",
      "source": [
        "name_pairs = {name: same_first_name_pair}\n",
        "print(name_pairs)"
      ],
      "metadata": {
        "colab": {
          "base_uri": "https://localhost:8080/"
        },
        "id": "3gwXrQZNOCgg",
        "outputId": "ae36e02b-dbed-4fe8-85d2-b2b47107d30d"
      },
      "execution_count": 110,
      "outputs": [
        {
          "output_type": "stream",
          "name": "stdout",
          "text": [
            "{'Gregory': ['Gregory Peck', 'Gregory Baum', 'Gregory Doran', 'Gregory Ulmer', 'Gregory Maguire', 'Gregory Bicskei', 'Gregory Mathews', 'Gregory Dark', 'Gregory Kaidanov', 'Gregory Campbell', 'Gregory Nelson', 'Gregory Bittman', 'Gregory Pitl', 'Gregory Sierra', 'Gregory Springer', 'Gregory Atta', 'Gregory Bouchelaghem', 'Gregory Cohen', 'Gregory Franchi', 'Gregory Choplin', 'Gregory Dix', 'Gregory Despres', 'Gregory Dexter', 'Gregory Douglass', 'Gregory Floyd', 'Gregory Fulton', 'Gregory Haerr', 'Gregory James', 'Gregory Kealey', 'Gregory Lekhtman', 'Gregory Luna', 'Gregory Mosher', 'Gregory Orfalea', 'Gregory Penske', 'Gregory Pence', 'Gregory Petsko', 'Gregory Perino', 'Gregory Reyes', 'Gregory Rogers', 'Gregory Sica', 'Gregory Sumner', 'Gregory Wright', 'Gregory Leach', 'Gregory Smits', 'Gregory James', 'Gregory Wong', 'Gregory Popdimitrov', 'Gregory Alcidas', 'Gregory Tanyi', 'Gregory Nouhaud', 'Gregory Wendt', 'Gregory Kosteck', 'Gregory Sharbabchyan', 'Gregory DePalma']}\n"
          ]
        }
      ]
    },
    {
      "cell_type": "code",
      "source": [
        "#find female politicians\n",
        "query3 = '''\n",
        "SELECT DISTINCT ?item ?itemLabel WHERE {\n",
        "  SERVICE wikibase:label { bd:serviceParam wikibase:language \"en\". }\n",
        "  {\n",
        "    SELECT DISTINCT ?item ?itemLabel WHERE {\n",
        "      ?item wdt:P106 wd:Q82955; \n",
        "            wdt:P21 wd:Q6581072.\n",
        "    }\n",
        "    ORDER BY RAND()\n",
        "  }\n",
        "  FILTER REGEX(?itemLabel, \"^[A-Za-z]+ [A-Za-z]+$\")\n",
        "}\n",
        "LIMIT 10\n",
        "'''\n",
        "query_result3 = return_sparql_query_results(query3)"
      ],
      "metadata": {
        "id": "ERheDIPbuTdm"
      },
      "execution_count": 89,
      "outputs": []
    },
    {
      "cell_type": "code",
      "source": [
        "female_politicians = [ x[\"itemLabel\"][\"value\"] for x in query_result3['results']['bindings']]"
      ],
      "metadata": {
        "id": "EdaaUmWjkScC"
      },
      "execution_count": 94,
      "outputs": []
    },
    {
      "cell_type": "code",
      "source": [
        "female_politicians"
      ],
      "metadata": {
        "colab": {
          "base_uri": "https://localhost:8080/"
        },
        "id": "xYkkR3Toks9j",
        "outputId": "85eea62d-03ae-4fb2-841e-3ca5ea3e0574"
      },
      "execution_count": 95,
      "outputs": [
        {
          "output_type": "execute_result",
          "data": {
            "text/plain": [
              "['Barbara Gysi',\n",
              " 'Hedwig Dransfeld',\n",
              " 'Shirley Temple',\n",
              " 'Gabrielle Giffords',\n",
              " 'Mary Robinson',\n",
              " 'Chandrika Kumaratunga',\n",
              " 'Jehan Sadat',\n",
              " 'Martha Washington',\n",
              " 'Barbara Gordon',\n",
              " 'Constance Markievicz']"
            ]
          },
          "metadata": {},
          "execution_count": 95
        }
      ]
    }
  ]
}