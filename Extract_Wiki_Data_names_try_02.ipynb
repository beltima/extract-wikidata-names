{
  "nbformat": 4,
  "nbformat_minor": 0,
  "metadata": {
    "colab": {
      "provenance": [],
      "machine_shape": "hm",
      "authorship_tag": "ABX9TyN2lyC8k/fv7wxkXdByB9Qz",
      "include_colab_link": true
    },
    "kernelspec": {
      "name": "python3",
      "display_name": "Python 3"
    },
    "language_info": {
      "name": "python"
    },
    "gpuClass": "standard"
  },
  "cells": [
    {
      "cell_type": "markdown",
      "metadata": {
        "id": "view-in-github",
        "colab_type": "text"
      },
      "source": [
        "<a href=\"https://colab.research.google.com/github/beltima/extract-wikidata-names/blob/get-names-dictionary/Extract_Wiki_Data_names_try_02.ipynb\" target=\"_parent\"><img src=\"https://colab.research.google.com/assets/colab-badge.svg\" alt=\"Open In Colab\"/></a>"
      ]
    },
    {
      "cell_type": "code",
      "execution_count": null,
      "metadata": {
        "id": "9L3DyW6Mj3-U"
      },
      "outputs": [],
      "source": [
        "!pip install qwikidata\n",
        "import qwikidata"
      ]
    },
    {
      "cell_type": "code",
      "source": [
        "from qwikidata.sparql import get_subclasses_of_item\n",
        "from qwikidata.sparql import return_sparql_query_results"
      ],
      "metadata": {
        "id": "2EV-cL97j61Y"
      },
      "execution_count": 2,
      "outputs": []
    },
    {
      "cell_type": "code",
      "source": [
        "def get_itemlabel(query): \n",
        "  name_list = []\n",
        "  for x in query[\"results\"][\"bindings\"]: \n",
        "    name_list.append(x[\"itemLabel\"][\"value\"])\n",
        "  return name_list\n",
        "\n",
        "def find_fname_id(name): \n",
        "  find_fn_id_query = f'''SELECT DISTINCT ?item ?itemLabel WHERE \n",
        "  {{\n",
        "    ?item rdfs:label \"{name}\"@en;\n",
        "          wdt:P31 wd:Q12308941.\n",
        "    SERVICE wikibase:label {{ bd:serviceParam wikibase:language \"en\". }}\n",
        "  }}\n",
        "  '''\n",
        "  res = return_sparql_query_results(find_fn_id_query)\n",
        "  id = res['results']['bindings'][0]['item']['value'].split('/')[-1]\n",
        "  return id"
      ],
      "metadata": {
        "id": "vGu_49Jsj8m_"
      },
      "execution_count": 3,
      "outputs": []
    },
    {
      "cell_type": "code",
      "source": [
        "def find_lname_id(name): \n",
        "  find_ln_id_query = f'''SELECT DISTINCT ?item ?itemLabel WHERE {{\n",
        "  ?item rdfs:label \"{name}\"@en;\n",
        "        wdt:P31 wd:Q101352.\n",
        "  SERVICE wikibase:label {{ bd:serviceParam wikibase:language \"en\". }}\n",
        "}}\n",
        "\n",
        "'''\n",
        "  res = return_sparql_query_results(find_ln_id_query)\n",
        "  id = res['results']['bindings'][0]['item']['value'].split('/')[-1]\n",
        "  return id #Q101352 last name id"
      ],
      "metadata": {
        "id": "Sv2IVyyQtFjg"
      },
      "execution_count": 4,
      "outputs": []
    },
    {
      "cell_type": "code",
      "source": [
        "def find_similar_from_id(id1): \n",
        "  #find similar names from the ID just found for the target name\n",
        "  id = id1\n",
        "  find_similar_query = f\"\"\"\n",
        "  SELECT DISTINCT ?item ?itemLabel WHERE \n",
        "  {{\n",
        "    SERVICE wikibase:label {{ bd:serviceParam wikibase:language \"en\". }}\n",
        "    {{\n",
        "      SELECT DISTINCT ?item WHERE {{\n",
        "        ?item p:P460 ?statement0.\n",
        "        ?statement0 (ps:P460/(wdt:P279*)) wd:{id}.\n",
        "      }}\n",
        "    }}\n",
        "  }}\n",
        "  \"\"\"\n",
        "  res = return_sparql_query_results(find_similar_query)\n",
        "  similar_name_list = get_itemlabel(res)\n",
        "  return similar_name_list"
      ],
      "metadata": {
        "id": "fj1dmsz4qe6K"
      },
      "execution_count": 6,
      "outputs": []
    },
    {
      "cell_type": "code",
      "source": [
        "# print(find_lname_id('Baker'))\n",
        "# print(find_fname_id('Joshua'))\n",
        "# print(find_similar_from_id('Q111549586'))\n",
        "# print(find_similar_from_id('Q3284319'))\n"
      ],
      "metadata": {
        "colab": {
          "base_uri": "https://localhost:8080/"
        },
        "id": "fAu8y0Hntga4",
        "outputId": "585d1de3-108a-41f0-edc5-175292ee9a5e"
      },
      "execution_count": 34,
      "outputs": [
        {
          "output_type": "stream",
          "name": "stdout",
          "text": [
            "['Ernst', 'Ernest']\n"
          ]
        }
      ]
    },
    {
      "cell_type": "code",
      "source": [
        "def similar_full_names(name): \n",
        "  f_name, l_name = name.split(' ')\n",
        "\n",
        "  f_name_id = find_fname_id(f_name)\n",
        "  l_name_id = find_lname_id(l_name)\n",
        "\n",
        "  fname_similar = find_similar_from_id(f_name_id)\n",
        "  lname_similar = find_similar_from_id(l_name_id)\n",
        "\n",
        "  fname_list = [sim_fname + ' ' + l_name for sim_fname in fname_similar]\n",
        "  lname_list = [f_name + ' ' + sim_lname for sim_lname in lname_similar]\n",
        "\n",
        "  similar_full_names = fname_list + lname_list\n",
        "  pair = {name: similar_full_names}\n",
        "  return pair"
      ],
      "metadata": {
        "id": "Ax9hy2yDkwzw"
      },
      "execution_count": 14,
      "outputs": []
    },
    {
      "cell_type": "code",
      "source": [
        "name = 'Joshua Baker'\n",
        "similar_full_names(name)"
      ],
      "metadata": {
        "colab": {
          "base_uri": "https://localhost:8080/"
        },
        "id": "uy6dIsKgsLyv",
        "outputId": "a2774fd0-361e-4dd4-bc0d-8fbee5a3d440"
      },
      "execution_count": 15,
      "outputs": [
        {
          "output_type": "execute_result",
          "data": {
            "text/plain": [
              "{'Joshua Baker': ['Joshuah Baker',\n",
              "  'Josh Baker',\n",
              "  'Jozue Baker',\n",
              "  'Josua Baker',\n",
              "  'Joosua Baker',\n",
              "  'Yosua Baker',\n",
              "  'Josuah Baker',\n",
              "  'Giosuè Baker',\n",
              "  'Yehoshua Baker',\n",
              "  'Joshua Bäcker',\n",
              "  'Joshua Bakker',\n",
              "  'Joshua Becker',\n",
              "  'Joshua Boulanger',\n",
              "  'Joshua Boulenger']}"
            ]
          },
          "metadata": {},
          "execution_count": 15
        }
      ]
    },
    {
      "cell_type": "code",
      "source": [
        "name1 = 'Ernst Albrecht'\n",
        "similar_full_names(name1)"
      ],
      "metadata": {
        "colab": {
          "base_uri": "https://localhost:8080/"
        },
        "id": "JOxbE2Mr0ORO",
        "outputId": "de15b14b-d085-4f4f-d2f4-338771c4b377"
      },
      "execution_count": 31,
      "outputs": [
        {
          "output_type": "execute_result",
          "data": {
            "text/plain": [
              "{'Ernst Albrecht': ['Ernestan Albrecht',\n",
              "  'Ernest Albrecht',\n",
              "  'Ernesto Albrecht',\n",
              "  'Arnošt Albrecht',\n",
              "  'Ernő Albrecht',\n",
              "  'Q111549586 Albrecht',\n",
              "  'Ernst Abel',\n",
              "  'Ernst Albert',\n",
              "  'Ernst Alberto',\n",
              "  'Ernst Avraham',\n",
              "  'Ernst Alberts',\n",
              "  'Ernst Albertus',\n",
              "  'Ernst Albracht',\n",
              "  'Ernst Adelbrecht',\n",
              "  'Ernst Albercht',\n",
              "  'Ernst Allbrecht']}"
            ]
          },
          "metadata": {},
          "execution_count": 31
        }
      ]
    },
    {
      "cell_type": "code",
      "source": [
        "male_politicians_query = '''\n",
        "SELECT DISTINCT ?item ?itemLabel WHERE {\n",
        "  SERVICE wikibase:label { bd:serviceParam wikibase:language \"en\". }\n",
        "  {\n",
        "    SELECT DISTINCT ?item ?itemLabel WHERE {\n",
        "      ?item wdt:P106 wd:Q82955; \n",
        "            wdt:P21 wd:Q6581097.\n",
        "    }\n",
        "    ORDER BY RAND()\n",
        "  }\n",
        "  FILTER REGEX(?itemLabel, \"^[A-Za-z]+ [A-Za-z]+$\")\n",
        "}\n",
        "LIMIT 10\n",
        "'''\n",
        "#male Q6581097\n",
        "\n",
        "female_politicians_query = '''\n",
        "SELECT DISTINCT ?item ?itemLabel WHERE {\n",
        "  SERVICE wikibase:label { bd:serviceParam wikibase:language \"en\". }\n",
        "  {\n",
        "    SELECT DISTINCT ?item ?itemLabel WHERE {\n",
        "      ?item wdt:P106 wd:Q82955; \n",
        "            wdt:P21 wd:Q6581072.\n",
        "    }\n",
        "    ORDER BY RAND()\n",
        "  }\n",
        "  FILTER REGEX(?itemLabel, \"^[A-Za-z]+ [A-Za-z]+$\")\n",
        "}\n",
        "LIMIT 10\n",
        "'''\n",
        "#female Q6581072"
      ],
      "metadata": {
        "id": "hXw5U5x8oa_R"
      },
      "execution_count": 17,
      "outputs": []
    },
    {
      "cell_type": "code",
      "source": [
        "def Merge(dict1, dict2):\n",
        "  return(dict2.update(dict1))"
      ],
      "metadata": {
        "id": "cWi7ogGayj-v"
      },
      "execution_count": 19,
      "outputs": []
    },
    {
      "cell_type": "code",
      "source": [
        "male_politicans = [ x[\"itemLabel\"][\"value\"] for x in return_sparql_query_results(male_politicians_query)['results']['bindings']]\n",
        "female_politicans = [ x[\"itemLabel\"][\"value\"] for x in return_sparql_query_results(female_politicians_query)['results']['bindings']]"
      ],
      "metadata": {
        "id": "QxrmITZ0y1im"
      },
      "execution_count": 27,
      "outputs": []
    },
    {
      "cell_type": "code",
      "source": [
        "print(male_politicans)\n",
        "print(female_politicans)"
      ],
      "metadata": {
        "colab": {
          "base_uri": "https://localhost:8080/"
        },
        "id": "i59jIGsxz-El",
        "outputId": "36113aee-6748-4c81-9688-6e5329f6c70a"
      },
      "execution_count": 28,
      "outputs": [
        {
          "output_type": "stream",
          "name": "stdout",
          "text": [
            "['Heinrich Scheuch', 'Hermann Muhs', 'Ernst Albrecht', 'Konrad Wolf', 'Peter Schmidhuber', 'Dietrich Stobbe', 'Alfred Herrhausen', 'Heinrich Held', 'Walter Blume', 'Heinz Auerswald']\n",
            "['Zahra Mohammadzadeh', 'Yukiko Kada', 'Oriana Fallaci', 'Anniken Huitfeldt', 'Marianne Aasen', 'Kirron Kher', 'Angela Davis', 'Rosario Green', 'Valeria Ciavatta', 'Mary Carey']\n"
          ]
        }
      ]
    },
    {
      "cell_type": "code",
      "source": [
        "for name in male_politicans: \n",
        "  print(similar_full_names(name))"
      ],
      "metadata": {
        "colab": {
          "base_uri": "https://localhost:8080/",
          "height": 324
        },
        "id": "Wo7afUcsz6mx",
        "outputId": "fbf98fb9-1203-4d8e-f1ab-a3fcb06b634e"
      },
      "execution_count": 39,
      "outputs": [
        {
          "output_type": "error",
          "ename": "JSONDecodeError",
          "evalue": "ignored",
          "traceback": [
            "\u001b[0;31m---------------------------------------------------------------------------\u001b[0m",
            "\u001b[0;31mJSONDecodeError\u001b[0m                           Traceback (most recent call last)",
            "\u001b[0;32m<ipython-input-39-0beb812e2abc>\u001b[0m in \u001b[0;36m<module>\u001b[0;34m\u001b[0m\n\u001b[1;32m      1\u001b[0m \u001b[0;32mfor\u001b[0m \u001b[0mname\u001b[0m \u001b[0;32min\u001b[0m \u001b[0mmale_politicans\u001b[0m\u001b[0;34m:\u001b[0m\u001b[0;34m\u001b[0m\u001b[0;34m\u001b[0m\u001b[0m\n\u001b[0;32m----> 2\u001b[0;31m   \u001b[0mprint\u001b[0m\u001b[0;34m(\u001b[0m\u001b[0msimilar_full_names\u001b[0m\u001b[0;34m(\u001b[0m\u001b[0mname\u001b[0m\u001b[0;34m)\u001b[0m\u001b[0;34m)\u001b[0m\u001b[0;34m\u001b[0m\u001b[0;34m\u001b[0m\u001b[0m\n\u001b[0m",
            "\u001b[0;32m<ipython-input-14-f08b270b5105>\u001b[0m in \u001b[0;36msimilar_full_names\u001b[0;34m(name)\u001b[0m\n\u001b[1;32m      6\u001b[0m \u001b[0;34m\u001b[0m\u001b[0m\n\u001b[1;32m      7\u001b[0m   \u001b[0mfname_similar\u001b[0m \u001b[0;34m=\u001b[0m \u001b[0mfind_similar_from_id\u001b[0m\u001b[0;34m(\u001b[0m\u001b[0mf_name_id\u001b[0m\u001b[0;34m)\u001b[0m\u001b[0;34m\u001b[0m\u001b[0;34m\u001b[0m\u001b[0m\n\u001b[0;32m----> 8\u001b[0;31m   \u001b[0mlname_similar\u001b[0m \u001b[0;34m=\u001b[0m \u001b[0mfind_similar_from_id\u001b[0m\u001b[0;34m(\u001b[0m\u001b[0ml_name_id\u001b[0m\u001b[0;34m)\u001b[0m\u001b[0;34m\u001b[0m\u001b[0;34m\u001b[0m\u001b[0m\n\u001b[0m\u001b[1;32m      9\u001b[0m \u001b[0;34m\u001b[0m\u001b[0m\n\u001b[1;32m     10\u001b[0m   \u001b[0mfname_list\u001b[0m \u001b[0;34m=\u001b[0m \u001b[0;34m[\u001b[0m\u001b[0msim_fname\u001b[0m \u001b[0;34m+\u001b[0m \u001b[0;34m' '\u001b[0m \u001b[0;34m+\u001b[0m \u001b[0ml_name\u001b[0m \u001b[0;32mfor\u001b[0m \u001b[0msim_fname\u001b[0m \u001b[0;32min\u001b[0m \u001b[0mfname_similar\u001b[0m\u001b[0;34m]\u001b[0m\u001b[0;34m\u001b[0m\u001b[0;34m\u001b[0m\u001b[0m\n",
            "\u001b[0;32m<ipython-input-6-bf1f9cf0480f>\u001b[0m in \u001b[0;36mfind_similar_from_id\u001b[0;34m(id1)\u001b[0m\n\u001b[1;32m     14\u001b[0m   }}\n\u001b[1;32m     15\u001b[0m   \"\"\"\n\u001b[0;32m---> 16\u001b[0;31m   \u001b[0mres\u001b[0m \u001b[0;34m=\u001b[0m \u001b[0mreturn_sparql_query_results\u001b[0m\u001b[0;34m(\u001b[0m\u001b[0mfind_similar_query\u001b[0m\u001b[0;34m)\u001b[0m\u001b[0;34m\u001b[0m\u001b[0;34m\u001b[0m\u001b[0m\n\u001b[0m\u001b[1;32m     17\u001b[0m   \u001b[0msimilar_name_list\u001b[0m \u001b[0;34m=\u001b[0m \u001b[0mget_itemlabel\u001b[0m\u001b[0;34m(\u001b[0m\u001b[0mres\u001b[0m\u001b[0;34m)\u001b[0m\u001b[0;34m\u001b[0m\u001b[0;34m\u001b[0m\u001b[0m\n\u001b[1;32m     18\u001b[0m   \u001b[0;32mreturn\u001b[0m \u001b[0msimilar_name_list\u001b[0m\u001b[0;34m\u001b[0m\u001b[0;34m\u001b[0m\u001b[0m\n",
            "\u001b[0;32m/usr/local/lib/python3.8/dist-packages/qwikidata/sparql.py\u001b[0m in \u001b[0;36mreturn_sparql_query_results\u001b[0;34m(query_string, wikidata_sparql_url)\u001b[0m\n\u001b[1;32m     20\u001b[0m       \u001b[0mwikidata\u001b[0m \u001b[0mSPARQL\u001b[0m \u001b[0mendpoint\u001b[0m \u001b[0mto\u001b[0m \u001b[0muse\u001b[0m\u001b[0;34m\u001b[0m\u001b[0;34m\u001b[0m\u001b[0m\n\u001b[1;32m     21\u001b[0m     \"\"\"\n\u001b[0;32m---> 22\u001b[0;31m     return requests.get(\n\u001b[0m\u001b[1;32m     23\u001b[0m         \u001b[0mwikidata_sparql_url\u001b[0m\u001b[0;34m,\u001b[0m \u001b[0mparams\u001b[0m\u001b[0;34m=\u001b[0m\u001b[0;34m{\u001b[0m\u001b[0;34m\"query\"\u001b[0m\u001b[0;34m:\u001b[0m \u001b[0mquery_string\u001b[0m\u001b[0;34m,\u001b[0m \u001b[0;34m\"format\"\u001b[0m\u001b[0;34m:\u001b[0m \u001b[0;34m\"json\"\u001b[0m\u001b[0;34m}\u001b[0m\u001b[0;34m\u001b[0m\u001b[0;34m\u001b[0m\u001b[0m\n\u001b[1;32m     24\u001b[0m     ).json()\n",
            "\u001b[0;32m/usr/local/lib/python3.8/dist-packages/requests/models.py\u001b[0m in \u001b[0;36mjson\u001b[0;34m(self, **kwargs)\u001b[0m\n\u001b[1;32m    898\u001b[0m                     \u001b[0;31m# used.\u001b[0m\u001b[0;34m\u001b[0m\u001b[0;34m\u001b[0m\u001b[0;34m\u001b[0m\u001b[0m\n\u001b[1;32m    899\u001b[0m                     \u001b[0;32mpass\u001b[0m\u001b[0;34m\u001b[0m\u001b[0;34m\u001b[0m\u001b[0m\n\u001b[0;32m--> 900\u001b[0;31m         \u001b[0;32mreturn\u001b[0m \u001b[0mcomplexjson\u001b[0m\u001b[0;34m.\u001b[0m\u001b[0mloads\u001b[0m\u001b[0;34m(\u001b[0m\u001b[0mself\u001b[0m\u001b[0;34m.\u001b[0m\u001b[0mtext\u001b[0m\u001b[0;34m,\u001b[0m \u001b[0;34m**\u001b[0m\u001b[0mkwargs\u001b[0m\u001b[0;34m)\u001b[0m\u001b[0;34m\u001b[0m\u001b[0;34m\u001b[0m\u001b[0m\n\u001b[0m\u001b[1;32m    901\u001b[0m \u001b[0;34m\u001b[0m\u001b[0m\n\u001b[1;32m    902\u001b[0m     \u001b[0;34m@\u001b[0m\u001b[0mproperty\u001b[0m\u001b[0;34m\u001b[0m\u001b[0;34m\u001b[0m\u001b[0m\n",
            "\u001b[0;32m/usr/lib/python3.8/json/__init__.py\u001b[0m in \u001b[0;36mloads\u001b[0;34m(s, cls, object_hook, parse_float, parse_int, parse_constant, object_pairs_hook, **kw)\u001b[0m\n\u001b[1;32m    355\u001b[0m             \u001b[0mparse_int\u001b[0m \u001b[0;32mis\u001b[0m \u001b[0;32mNone\u001b[0m \u001b[0;32mand\u001b[0m \u001b[0mparse_float\u001b[0m \u001b[0;32mis\u001b[0m \u001b[0;32mNone\u001b[0m \u001b[0;32mand\u001b[0m\u001b[0;34m\u001b[0m\u001b[0;34m\u001b[0m\u001b[0m\n\u001b[1;32m    356\u001b[0m             parse_constant is None and object_pairs_hook is None and not kw):\n\u001b[0;32m--> 357\u001b[0;31m         \u001b[0;32mreturn\u001b[0m \u001b[0m_default_decoder\u001b[0m\u001b[0;34m.\u001b[0m\u001b[0mdecode\u001b[0m\u001b[0;34m(\u001b[0m\u001b[0ms\u001b[0m\u001b[0;34m)\u001b[0m\u001b[0;34m\u001b[0m\u001b[0;34m\u001b[0m\u001b[0m\n\u001b[0m\u001b[1;32m    358\u001b[0m     \u001b[0;32mif\u001b[0m \u001b[0mcls\u001b[0m \u001b[0;32mis\u001b[0m \u001b[0;32mNone\u001b[0m\u001b[0;34m:\u001b[0m\u001b[0;34m\u001b[0m\u001b[0;34m\u001b[0m\u001b[0m\n\u001b[1;32m    359\u001b[0m         \u001b[0mcls\u001b[0m \u001b[0;34m=\u001b[0m \u001b[0mJSONDecoder\u001b[0m\u001b[0;34m\u001b[0m\u001b[0;34m\u001b[0m\u001b[0m\n",
            "\u001b[0;32m/usr/lib/python3.8/json/decoder.py\u001b[0m in \u001b[0;36mdecode\u001b[0;34m(self, s, _w)\u001b[0m\n\u001b[1;32m    335\u001b[0m \u001b[0;34m\u001b[0m\u001b[0m\n\u001b[1;32m    336\u001b[0m         \"\"\"\n\u001b[0;32m--> 337\u001b[0;31m         \u001b[0mobj\u001b[0m\u001b[0;34m,\u001b[0m \u001b[0mend\u001b[0m \u001b[0;34m=\u001b[0m \u001b[0mself\u001b[0m\u001b[0;34m.\u001b[0m\u001b[0mraw_decode\u001b[0m\u001b[0;34m(\u001b[0m\u001b[0ms\u001b[0m\u001b[0;34m,\u001b[0m \u001b[0midx\u001b[0m\u001b[0;34m=\u001b[0m\u001b[0m_w\u001b[0m\u001b[0;34m(\u001b[0m\u001b[0ms\u001b[0m\u001b[0;34m,\u001b[0m \u001b[0;36m0\u001b[0m\u001b[0;34m)\u001b[0m\u001b[0;34m.\u001b[0m\u001b[0mend\u001b[0m\u001b[0;34m(\u001b[0m\u001b[0;34m)\u001b[0m\u001b[0;34m)\u001b[0m\u001b[0;34m\u001b[0m\u001b[0;34m\u001b[0m\u001b[0m\n\u001b[0m\u001b[1;32m    338\u001b[0m         \u001b[0mend\u001b[0m \u001b[0;34m=\u001b[0m \u001b[0m_w\u001b[0m\u001b[0;34m(\u001b[0m\u001b[0ms\u001b[0m\u001b[0;34m,\u001b[0m \u001b[0mend\u001b[0m\u001b[0;34m)\u001b[0m\u001b[0;34m.\u001b[0m\u001b[0mend\u001b[0m\u001b[0;34m(\u001b[0m\u001b[0;34m)\u001b[0m\u001b[0;34m\u001b[0m\u001b[0;34m\u001b[0m\u001b[0m\n\u001b[1;32m    339\u001b[0m         \u001b[0;32mif\u001b[0m \u001b[0mend\u001b[0m \u001b[0;34m!=\u001b[0m \u001b[0mlen\u001b[0m\u001b[0;34m(\u001b[0m\u001b[0ms\u001b[0m\u001b[0;34m)\u001b[0m\u001b[0;34m:\u001b[0m\u001b[0;34m\u001b[0m\u001b[0;34m\u001b[0m\u001b[0m\n",
            "\u001b[0;32m/usr/lib/python3.8/json/decoder.py\u001b[0m in \u001b[0;36mraw_decode\u001b[0;34m(self, s, idx)\u001b[0m\n\u001b[1;32m    353\u001b[0m             \u001b[0mobj\u001b[0m\u001b[0;34m,\u001b[0m \u001b[0mend\u001b[0m \u001b[0;34m=\u001b[0m \u001b[0mself\u001b[0m\u001b[0;34m.\u001b[0m\u001b[0mscan_once\u001b[0m\u001b[0;34m(\u001b[0m\u001b[0ms\u001b[0m\u001b[0;34m,\u001b[0m \u001b[0midx\u001b[0m\u001b[0;34m)\u001b[0m\u001b[0;34m\u001b[0m\u001b[0;34m\u001b[0m\u001b[0m\n\u001b[1;32m    354\u001b[0m         \u001b[0;32mexcept\u001b[0m \u001b[0mStopIteration\u001b[0m \u001b[0;32mas\u001b[0m \u001b[0merr\u001b[0m\u001b[0;34m:\u001b[0m\u001b[0;34m\u001b[0m\u001b[0;34m\u001b[0m\u001b[0m\n\u001b[0;32m--> 355\u001b[0;31m             \u001b[0;32mraise\u001b[0m \u001b[0mJSONDecodeError\u001b[0m\u001b[0;34m(\u001b[0m\u001b[0;34m\"Expecting value\"\u001b[0m\u001b[0;34m,\u001b[0m \u001b[0ms\u001b[0m\u001b[0;34m,\u001b[0m \u001b[0merr\u001b[0m\u001b[0;34m.\u001b[0m\u001b[0mvalue\u001b[0m\u001b[0;34m)\u001b[0m \u001b[0;32mfrom\u001b[0m \u001b[0;32mNone\u001b[0m\u001b[0;34m\u001b[0m\u001b[0;34m\u001b[0m\u001b[0m\n\u001b[0m\u001b[1;32m    356\u001b[0m         \u001b[0;32mreturn\u001b[0m \u001b[0mobj\u001b[0m\u001b[0;34m,\u001b[0m \u001b[0mend\u001b[0m\u001b[0;34m\u001b[0m\u001b[0;34m\u001b[0m\u001b[0m\n",
            "\u001b[0;31mJSONDecodeError\u001b[0m: Expecting value: line 1 column 1 (char 0)"
          ]
        }
      ]
    },
    {
      "cell_type": "code",
      "source": [],
      "metadata": {
        "id": "TNpqCQsj1oOO"
      },
      "execution_count": null,
      "outputs": []
    }
  ]
}