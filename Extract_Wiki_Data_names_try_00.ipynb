{
  "nbformat": 4,
  "nbformat_minor": 0,
  "metadata": {
    "colab": {
      "provenance": [],
      "authorship_tag": "ABX9TyMB7p+gsYbfXaQ2BUyfnqEv",
      "include_colab_link": true
    },
    "kernelspec": {
      "name": "python3",
      "display_name": "Python 3"
    },
    "language_info": {
      "name": "python"
    }
  },
  "cells": [
    {
      "cell_type": "markdown",
      "metadata": {
        "id": "view-in-github",
        "colab_type": "text"
      },
      "source": [
        "<a href=\"https://colab.research.google.com/github/beltima/extract-wikidata-names/blob/get-names-dictionary/Get_names_dictionary_try.ipynb\" target=\"_parent\"><img src=\"https://colab.research.google.com/assets/colab-badge.svg\" alt=\"Open In Colab\"/></a>"
      ]
    },
    {
      "cell_type": "code",
      "execution_count": 70,
      "metadata": {
        "colab": {
          "base_uri": "https://localhost:8080/"
        },
        "id": "yiw-OnvqT0jS",
        "outputId": "80c1e6ee-c414-4436-95e7-db5e20b6d142"
      },
      "outputs": [
        {
          "output_type": "stream",
          "name": "stdout",
          "text": [
            "Looking in indexes: https://pypi.org/simple, https://us-python.pkg.dev/colab-wheels/public/simple/\n",
            "Requirement already satisfied: mkwikidata in /usr/local/lib/python3.8/dist-packages (0.14)\n",
            "Requirement already satisfied: requests>=2.25.1 in /usr/local/lib/python3.8/dist-packages (from mkwikidata) (2.25.1)\n",
            "Requirement already satisfied: idna<3,>=2.5 in /usr/local/lib/python3.8/dist-packages (from requests>=2.25.1->mkwikidata) (2.10)\n",
            "Requirement already satisfied: chardet<5,>=3.0.2 in /usr/local/lib/python3.8/dist-packages (from requests>=2.25.1->mkwikidata) (4.0.0)\n",
            "Requirement already satisfied: certifi>=2017.4.17 in /usr/local/lib/python3.8/dist-packages (from requests>=2.25.1->mkwikidata) (2022.12.7)\n",
            "Requirement already satisfied: urllib3<1.27,>=1.21.1 in /usr/local/lib/python3.8/dist-packages (from requests>=2.25.1->mkwikidata) (1.24.3)\n"
          ]
        }
      ],
      "source": [
        "!pip install mkwikidata"
      ]
    },
    {
      "cell_type": "code",
      "source": [
        "#import mkwikidata\n",
        "import mkwikidata"
      ],
      "metadata": {
        "id": "eJ76DATMimQJ"
      },
      "execution_count": 137,
      "outputs": []
    },
    {
      "cell_type": "code",
      "source": [
        "#look for ID of a name, first get the ID of name Gregory\n",
        "\n",
        "query = '''\n",
        "SELECT DISTINCT ?item ?itemLabel WHERE {\n",
        "  ?item rdfs:label \"Gregory\"@en;\n",
        "        wdt:P31 wd:Q12308941.\n",
        "  SERVICE wikibase:label { bd:serviceParam wikibase:language \"en\". }\n",
        "}\n",
        "\n",
        "'''\n",
        "query_result = mkwikidata.run_query(query, params={ })\n"
      ],
      "metadata": {
        "id": "xSphcj4BUFZU"
      },
      "execution_count": 149,
      "outputs": []
    },
    {
      "cell_type": "code",
      "source": [
        "query_result"
      ],
      "metadata": {
        "colab": {
          "base_uri": "https://localhost:8080/"
        },
        "id": "yBmh6NNwaXL3",
        "outputId": "4a7459b6-991f-4bd2-cf10-479621c0b8bd"
      },
      "execution_count": 150,
      "outputs": [
        {
          "output_type": "execute_result",
          "data": {
            "text/plain": [
              "{'head': {'vars': ['item', 'itemLabel']},\n",
              " 'results': {'bindings': [{'item': {'type': 'uri',\n",
              "     'value': 'http://www.wikidata.org/entity/Q922983'},\n",
              "    'itemLabel': {'xml:lang': 'en', 'type': 'literal', 'value': 'Gregory'}}]}}"
            ]
          },
          "metadata": {},
          "execution_count": 150
        }
      ]
    },
    {
      "cell_type": "code",
      "source": [
        "#extract the ID for a name\n",
        "url = query_result['results']['bindings'][0]['item']['value']\n",
        "item_id = url.split('/')[-1]\n",
        "item_id"
      ],
      "metadata": {
        "colab": {
          "base_uri": "https://localhost:8080/",
          "height": 36
        },
        "id": "aon8DSyia5st",
        "outputId": "0f8c8b40-4c9f-4ed6-ad19-b5f9b594f921"
      },
      "execution_count": 151,
      "outputs": [
        {
          "output_type": "execute_result",
          "data": {
            "text/plain": [
              "'Q922983'"
            ],
            "application/vnd.google.colaboratory.intrinsic+json": {
              "type": "string"
            }
          },
          "metadata": {},
          "execution_count": 151
        }
      ]
    },
    {
      "cell_type": "code",
      "source": [
        "#find similar names from the ID just found for the target name\n",
        "query1 = \"\"\"\n",
        "SELECT DISTINCT ?item ?itemLabel WHERE {\n",
        "  SERVICE wikibase:label { bd:serviceParam wikibase:language \"en\". }\n",
        "  {\n",
        "    SELECT DISTINCT ?item WHERE {\n",
        "      ?item p:P460 ?statement0.\n",
        "      ?statement0 (ps:P460/(wdt:P279*)) wd:$name_id.\n",
        "    }\n",
        "\n",
        "  }\n",
        "}\n",
        "\n",
        "\"\"\"\n",
        "query_result1 = mkwikidata.run_query(query1, params={\"name_id\":item_id})"
      ],
      "metadata": {
        "id": "TXn7RIs_aUvl"
      },
      "execution_count": 152,
      "outputs": []
    },
    {
      "cell_type": "code",
      "source": [
        "query_result1"
      ],
      "metadata": {
        "colab": {
          "base_uri": "https://localhost:8080/"
        },
        "id": "IRZVj66VUzmU",
        "outputId": "13d28afe-0727-4cf7-f80b-1dab0011b7ea"
      },
      "execution_count": 153,
      "outputs": [
        {
          "output_type": "execute_result",
          "data": {
            "text/plain": [
              "{'head': {'vars': ['item', 'itemLabel']},\n",
              " 'results': {'bindings': [{'item': {'type': 'uri',\n",
              "     'value': 'http://www.wikidata.org/entity/Q1551188'},\n",
              "    'itemLabel': {'xml:lang': 'en', 'type': 'literal', 'value': 'Grzegorz'}},\n",
              "   {'item': {'type': 'uri', 'value': 'http://www.wikidata.org/entity/Q783555'},\n",
              "    'itemLabel': {'xml:lang': 'en', 'type': 'literal', 'value': 'Gergely'}},\n",
              "   {'item': {'type': 'uri',\n",
              "     'value': 'http://www.wikidata.org/entity/Q110529601'},\n",
              "    'itemLabel': {'xml:lang': 'en', 'type': 'literal', 'value': 'Greggory'}},\n",
              "   {'item': {'type': 'uri',\n",
              "     'value': 'http://www.wikidata.org/entity/Q5609054'},\n",
              "    'itemLabel': {'xml:lang': 'en', 'type': 'literal', 'value': 'Grigori'}},\n",
              "   {'item': {'type': 'uri',\n",
              "     'value': 'http://www.wikidata.org/entity/Q18558712'},\n",
              "    'itemLabel': {'xml:lang': 'en', 'type': 'literal', 'value': 'Gregorius'}},\n",
              "   {'item': {'type': 'uri',\n",
              "     'value': 'http://www.wikidata.org/entity/Q18704199'},\n",
              "    'itemLabel': {'xml:lang': 'en', 'type': 'literal', 'value': 'Greger'}},\n",
              "   {'item': {'type': 'uri',\n",
              "     'value': 'http://www.wikidata.org/entity/Q18156264'},\n",
              "    'itemLabel': {'xml:lang': 'en', 'type': 'literal', 'value': 'Gregor'}},\n",
              "   {'item': {'type': 'uri',\n",
              "     'value': 'http://www.wikidata.org/entity/Q19817868'},\n",
              "    'itemLabel': {'xml:lang': 'en', 'type': 'literal', 'value': 'Grégory'}},\n",
              "   {'item': {'type': 'uri',\n",
              "     'value': 'http://www.wikidata.org/entity/Q19819806'},\n",
              "    'itemLabel': {'xml:lang': 'en', 'type': 'literal', 'value': 'Grégoire'}},\n",
              "   {'item': {'type': 'uri',\n",
              "     'value': 'http://www.wikidata.org/entity/Q5607282'},\n",
              "    'itemLabel': {'xml:lang': 'en', 'type': 'literal', 'value': 'Greig'}},\n",
              "   {'item': {'type': 'uri',\n",
              "     'value': 'http://www.wikidata.org/entity/Q18558694'},\n",
              "    'itemLabel': {'xml:lang': 'en', 'type': 'literal', 'value': 'Gregorio'}},\n",
              "   {'item': {'type': 'uri',\n",
              "     'value': 'http://www.wikidata.org/entity/Q6437028'},\n",
              "    'itemLabel': {'xml:lang': 'en', 'type': 'literal', 'value': 'Krikor'}},\n",
              "   {'item': {'type': 'uri',\n",
              "     'value': 'http://www.wikidata.org/entity/Q18704201'},\n",
              "    'itemLabel': {'xml:lang': 'en', 'type': 'literal', 'value': 'Gregers'}},\n",
              "   {'item': {'type': 'uri',\n",
              "     'value': 'http://www.wikidata.org/entity/Q19119664'},\n",
              "    'itemLabel': {'xml:lang': 'en', 'type': 'literal', 'value': 'Ryhor'}},\n",
              "   {'item': {'type': 'uri',\n",
              "     'value': 'http://www.wikidata.org/entity/Q26822137'},\n",
              "    'itemLabel': {'xml:lang': 'en', 'type': 'literal', 'value': 'Řehoř'}},\n",
              "   {'item': {'type': 'uri',\n",
              "     'value': 'http://www.wikidata.org/entity/Q42709343'},\n",
              "    'itemLabel': {'xml:lang': 'en', 'type': 'literal', 'value': 'Grigoris'}},\n",
              "   {'item': {'type': 'uri',\n",
              "     'value': 'http://www.wikidata.org/entity/Q39293323'},\n",
              "    'itemLabel': {'xml:lang': 'en', 'type': 'literal', 'value': 'Grigalius'}},\n",
              "   {'item': {'type': 'uri',\n",
              "     'value': 'http://www.wikidata.org/entity/Q16280875'},\n",
              "    'itemLabel': {'xml:lang': 'en', 'type': 'literal', 'value': 'Reijo'}},\n",
              "   {'item': {'type': 'uri',\n",
              "     'value': 'http://www.wikidata.org/entity/Q98442722'},\n",
              "    'itemLabel': {'xml:lang': 'en', 'type': 'literal', 'value': 'Grigorios'}},\n",
              "   {'item': {'type': 'uri',\n",
              "     'value': 'http://www.wikidata.org/entity/Q39815945'},\n",
              "    'itemLabel': {'xml:lang': 'en', 'type': 'literal', 'value': 'Hryhorii'}}]}}"
            ]
          },
          "metadata": {},
          "execution_count": 153
        }
      ]
    },
    {
      "cell_type": "code",
      "source": [
        "names = [x[\"itemLabel\"][\"value\"] for x in query_result3[\"results\"][\"bindings\"]]"
      ],
      "metadata": {
        "id": "Xi1jsp2MV9Rq"
      },
      "execution_count": 154,
      "outputs": []
    },
    {
      "cell_type": "code",
      "source": [
        "male_name_list = {item_id: names}\n",
        "male_name_list"
      ],
      "metadata": {
        "colab": {
          "base_uri": "https://localhost:8080/"
        },
        "id": "Z7Y7dXS2Wsj5",
        "outputId": "44edae67-2ed3-4327-b464-eb74aaae1ff2"
      },
      "execution_count": 155,
      "outputs": [
        {
          "output_type": "execute_result",
          "data": {
            "text/plain": [
              "{'Q922983': ['Grzegorz',\n",
              "  'Gergely',\n",
              "  'Greggory',\n",
              "  'Grigori',\n",
              "  'Gregorius',\n",
              "  'Greger',\n",
              "  'Gregor',\n",
              "  'Grégory',\n",
              "  'Grégoire',\n",
              "  'Greig',\n",
              "  'Gregorio',\n",
              "  'Krikor',\n",
              "  'Gregers',\n",
              "  'Ryhor',\n",
              "  'Řehoř',\n",
              "  'Grigoris',\n",
              "  'Grigalius',\n",
              "  'Reijo',\n",
              "  'Grigorios',\n",
              "  'Hryhorii']}"
            ]
          },
          "metadata": {},
          "execution_count": 155
        }
      ]
    },
    {
      "cell_type": "code",
      "source": [],
      "metadata": {
        "id": "awdwXO2ThbPt"
      },
      "execution_count": null,
      "outputs": []
    },
    {
      "cell_type": "code",
      "source": [],
      "metadata": {
        "id": "aVe_A7MykCqZ"
      },
      "execution_count": null,
      "outputs": []
    },
    {
      "cell_type": "code",
      "source": [],
      "metadata": {
        "id": "G-v39UgTkCst"
      },
      "execution_count": null,
      "outputs": []
    },
    {
      "cell_type": "code",
      "source": [],
      "metadata": {
        "id": "lUU64oV9kCvD"
      },
      "execution_count": null,
      "outputs": []
    },
    {
      "cell_type": "code",
      "source": [],
      "metadata": {
        "id": "Wa-m2jzxkCxZ"
      },
      "execution_count": null,
      "outputs": []
    },
    {
      "cell_type": "code",
      "source": [],
      "metadata": {
        "id": "HyPinFiOkCzu"
      },
      "execution_count": null,
      "outputs": []
    }
  ]
}
